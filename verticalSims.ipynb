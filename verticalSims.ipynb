{
 "cells": [
  {
   "cell_type": "code",
   "execution_count": 2,
   "metadata": {},
   "outputs": [],
   "source": [
    "import sympy as sp"
   ]
  },
  {
   "cell_type": "code",
   "execution_count": 33,
   "metadata": {},
   "outputs": [
    {
     "name": "stdout",
     "output_type": "stream",
     "text": [
      "Equations of Motion:\n"
     ]
    },
    {
     "data": {
      "text/latex": [
       "$\\displaystyle - c_{f1} \\left(\\frac{d}{d t} u_{f}{\\left(t \\right)} - \\frac{d}{d t} z_{f}{\\left(t \\right)}\\right) - c_{f2} \\left(l_{f} \\frac{d}{d t} \\theta{\\left(t \\right)} - \\frac{d}{d t} z_{f}{\\left(t \\right)} + \\frac{d}{d t} z_{p}{\\left(t \\right)}\\right) - k_{f1} \\left(u_{f}{\\left(t \\right)} - z_{f}{\\left(t \\right)}\\right) - k_{f2} \\left(l_{f} \\theta{\\left(t \\right)} - z_{f}{\\left(t \\right)} + z_{p}{\\left(t \\right)}\\right) + m_{f} \\frac{d^{2}}{d t^{2}} z_{f}{\\left(t \\right)}$"
      ],
      "text/plain": [
       "-c_f1*(Derivative(u_f(t), t) - Derivative(z_f(t), t)) - c_f2*(l_f*Derivative(theta(t), t) - Derivative(z_f(t), t) + Derivative(z_p(t), t)) - k_f1*(u_f(t) - z_f(t)) - k_f2*(l_f*theta(t) - z_f(t) + z_p(t)) + m_f*Derivative(z_f(t), (t, 2))"
      ]
     },
     "metadata": {},
     "output_type": "display_data"
    },
    {
     "data": {
      "text/latex": [
       "$\\displaystyle - c_{r1} \\left(\\frac{d}{d t} u_{r}{\\left(t \\right)} - \\frac{d}{d t} z_{r}{\\left(t \\right)}\\right) + c_{r2} \\left(l_{r} \\frac{d}{d t} \\theta{\\left(t \\right)} - \\frac{d}{d t} z_{p}{\\left(t \\right)} + \\frac{d}{d t} z_{r}{\\left(t \\right)}\\right) - k_{r1} \\left(u_{r}{\\left(t \\right)} - z_{r}{\\left(t \\right)}\\right) + k_{r2} \\left(l_{r} \\theta{\\left(t \\right)} - z_{p}{\\left(t \\right)} + z_{r}{\\left(t \\right)}\\right) + m_{r} \\frac{d^{2}}{d t^{2}} z_{r}{\\left(t \\right)}$"
      ],
      "text/plain": [
       "-c_r1*(Derivative(u_r(t), t) - Derivative(z_r(t), t)) + c_r2*(l_r*Derivative(theta(t), t) - Derivative(z_p(t), t) + Derivative(z_r(t), t)) - k_r1*(u_r(t) - z_r(t)) + k_r2*(l_r*theta(t) - z_p(t) + z_r(t)) + m_r*Derivative(z_r(t), (t, 2))"
      ]
     },
     "metadata": {},
     "output_type": "display_data"
    },
    {
     "data": {
      "text/latex": [
       "$\\displaystyle c_{f2} \\left(l_{f} \\frac{d}{d t} \\theta{\\left(t \\right)} - \\frac{d}{d t} z_{f}{\\left(t \\right)} + \\frac{d}{d t} z_{p}{\\left(t \\right)}\\right) - c_{r2} \\left(l_{r} \\frac{d}{d t} \\theta{\\left(t \\right)} - \\frac{d}{d t} z_{p}{\\left(t \\right)} + \\frac{d}{d t} z_{r}{\\left(t \\right)}\\right) + k_{f2} \\left(l_{f} \\theta{\\left(t \\right)} - z_{f}{\\left(t \\right)} + z_{p}{\\left(t \\right)}\\right) - k_{r2} \\left(l_{r} \\theta{\\left(t \\right)} - z_{p}{\\left(t \\right)} + z_{r}{\\left(t \\right)}\\right) + m_{p} \\frac{d^{2}}{d t^{2}} z_{p}{\\left(t \\right)}$"
      ],
      "text/plain": [
       "c_f2*(l_f*Derivative(theta(t), t) - Derivative(z_f(t), t) + Derivative(z_p(t), t)) - c_r2*(l_r*Derivative(theta(t), t) - Derivative(z_p(t), t) + Derivative(z_r(t), t)) + k_f2*(l_f*theta(t) - z_f(t) + z_p(t)) - k_r2*(l_r*theta(t) - z_p(t) + z_r(t)) + m_p*Derivative(z_p(t), (t, 2))"
      ]
     },
     "metadata": {},
     "output_type": "display_data"
    },
    {
     "data": {
      "text/latex": [
       "$\\displaystyle l_{f} \\left(c_{f2} \\left(l_{f} \\frac{d}{d t} \\theta{\\left(t \\right)} - \\frac{d}{d t} z_{f}{\\left(t \\right)} + \\frac{d}{d t} z_{p}{\\left(t \\right)}\\right) - k_{f2} \\left(l_{f} \\theta{\\left(t \\right)} - z_{f}{\\left(t \\right)} + z_{p}{\\left(t \\right)}\\right)\\right) + \\frac{l_{p}^{2} m_{p} \\frac{d^{2}}{d t^{2}} \\theta{\\left(t \\right)}}{12} + l_{r} \\left(c_{r2} \\left(l_{r} \\frac{d}{d t} \\theta{\\left(t \\right)} - \\frac{d}{d t} z_{p}{\\left(t \\right)} + \\frac{d}{d t} z_{r}{\\left(t \\right)}\\right) - k_{r2} \\left(l_{r} \\theta{\\left(t \\right)} - z_{p}{\\left(t \\right)} + z_{r}{\\left(t \\right)}\\right)\\right)$"
      ],
      "text/plain": [
       "l_f*(c_f2*(l_f*Derivative(theta(t), t) - Derivative(z_f(t), t) + Derivative(z_p(t), t)) - k_f2*(l_f*theta(t) - z_f(t) + z_p(t))) + l_p**2*m_p*Derivative(theta(t), (t, 2))/12 + l_r*(c_r2*(l_r*Derivative(theta(t), t) - Derivative(z_p(t), t) + Derivative(z_r(t), t)) - k_r2*(l_r*theta(t) - z_p(t) + z_r(t)))"
      ]
     },
     "metadata": {},
     "output_type": "display_data"
    },
    {
     "name": "stdout",
     "output_type": "stream",
     "text": [
      "System in matrix form:\n",
      "M\n"
     ]
    },
    {
     "data": {
      "text/latex": [
       "$\\displaystyle \\left[\\begin{matrix}m_{f} & 0 & 0 & 0\\\\0 & m_{r} & 0 & 0\\\\0 & 0 & m_{p} & 0\\\\0 & 0 & 0 & \\frac{l_{p}^{2} m_{p}}{12}\\end{matrix}\\right]$"
      ],
      "text/plain": [
       "Matrix([\n",
       "[m_f,   0,   0,             0],\n",
       "[  0, m_r,   0,             0],\n",
       "[  0,   0, m_p,             0],\n",
       "[  0,   0,   0, l_p**2*m_p/12]])"
      ]
     },
     "metadata": {},
     "output_type": "display_data"
    },
    {
     "name": "stdout",
     "output_type": "stream",
     "text": [
      "K\n"
     ]
    },
    {
     "data": {
      "text/latex": [
       "$\\displaystyle \\left[\\begin{matrix}k_{f1} + k_{f2} & 0 & - k_{f2} & - k_{f2} l_{f}\\\\0 & k_{r1} + k_{r2} & - k_{r2} & k_{r2} l_{r}\\\\- k_{f2} & - k_{r2} & k_{f2} + k_{r2} & k_{f2} l_{f} - k_{r2} l_{r}\\\\k_{f2} l_{f} & - k_{r2} l_{r} & - k_{f2} l_{f} + k_{r2} l_{r} & - k_{f2} l_{f}^{2} - k_{r2} l_{r}^{2}\\end{matrix}\\right]$"
      ],
      "text/plain": [
       "Matrix([\n",
       "[k_f1 + k_f2,           0,                -k_f2,                  -k_f2*l_f],\n",
       "[          0, k_r1 + k_r2,                -k_r2,                   k_r2*l_r],\n",
       "[      -k_f2,       -k_r2,          k_f2 + k_r2,        k_f2*l_f - k_r2*l_r],\n",
       "[   k_f2*l_f,   -k_r2*l_r, -k_f2*l_f + k_r2*l_r, -k_f2*l_f**2 - k_r2*l_r**2]])"
      ]
     },
     "metadata": {},
     "output_type": "display_data"
    },
    {
     "name": "stdout",
     "output_type": "stream",
     "text": [
      "C\n"
     ]
    },
    {
     "data": {
      "text/latex": [
       "$\\displaystyle \\left[\\begin{matrix}c_{f1} + c_{f2} & 0 & - c_{f2} & - c_{f2} l_{f}\\\\0 & c_{r1} + c_{r2} & - c_{r2} & c_{r2} l_{r}\\\\- c_{f2} & - c_{r2} & c_{f2} + c_{r2} & c_{f2} l_{f} - c_{r2} l_{r}\\\\- c_{f2} l_{f} & c_{r2} l_{r} & c_{f2} l_{f} - c_{r2} l_{r} & c_{f2} l_{f}^{2} + c_{r2} l_{r}^{2}\\end{matrix}\\right]$"
      ],
      "text/plain": [
       "Matrix([\n",
       "[c_f1 + c_f2,           0,               -c_f2,                 -c_f2*l_f],\n",
       "[          0, c_r1 + c_r2,               -c_r2,                  c_r2*l_r],\n",
       "[      -c_f2,       -c_r2,         c_f2 + c_r2,       c_f2*l_f - c_r2*l_r],\n",
       "[  -c_f2*l_f,    c_r2*l_r, c_f2*l_f - c_r2*l_r, c_f2*l_f**2 + c_r2*l_r**2]])"
      ]
     },
     "metadata": {},
     "output_type": "display_data"
    },
    {
     "name": "stdout",
     "output_type": "stream",
     "text": [
      "Ku\n"
     ]
    },
    {
     "data": {
      "text/latex": [
       "$\\displaystyle \\left[\\begin{matrix}- k_{f1} & 0\\\\0 & - k_{r1}\\\\0 & 0\\\\0 & 0\\end{matrix}\\right]$"
      ],
      "text/plain": [
       "Matrix([\n",
       "[-k_f1,     0],\n",
       "[    0, -k_r1],\n",
       "[    0,     0],\n",
       "[    0,     0]])"
      ]
     },
     "metadata": {},
     "output_type": "display_data"
    },
    {
     "name": "stdout",
     "output_type": "stream",
     "text": [
      "CU\n"
     ]
    },
    {
     "data": {
      "text/latex": [
       "$\\displaystyle \\left[\\begin{matrix}- c_{f1} & 0\\\\0 & - c_{r1}\\\\0 & 0\\\\0 & 0\\end{matrix}\\right]$"
      ],
      "text/plain": [
       "Matrix([\n",
       "[-c_f1,     0],\n",
       "[    0, -c_r1],\n",
       "[    0,     0],\n",
       "[    0,     0]])"
      ]
     },
     "metadata": {},
     "output_type": "display_data"
    }
   ],
   "source": [
    "#constants\n",
    "cf1, cf2, kf1,kf2,mf,lf = sp.symbols('c_f1, c_f2, k_f1,k_f2,m_f,l_f')\n",
    "cr1, cr2, kr1,kr2,mr,lr = sp.symbols('c_r1, c_r2, k_r1,k_r2,m_r,l_r') #in vim, replace all instances of f with r is shift+v (select whole line), :s (substitute) /f/r/ (f with r) g (until end of line)\n",
    "mp, lp = sp.symbols('m_p, l_p')\n",
    "#states\n",
    "t = sp.symbols('t')\n",
    "zf = sp.Function('z_f')(t)\n",
    "zr = sp.Function('z_r')(t)\n",
    "zp = sp.Function('z_p')(t)\n",
    "theta = sp.Function('theta')(t)\n",
    "ur = sp.Function('u_r')(t)\n",
    "uf = sp.Function('u_f')(t)\n",
    "\n",
    "Iy = sp.Rational(1,12)*mp*lp**2\n",
    "\n",
    "states = [zf.diff(t,2), zr.diff(t,2), zp.diff(t,2), theta.diff(t,2),zf.diff(t), zr.diff(t), zp.diff(t), theta.diff(t),zf,zr,zp,theta, uf, ur, uf.diff(t), ur.diff(t)]\n",
    "qddot = [zf.diff(t,2), zr.diff(t,2), zp.diff(t,2), theta.diff(t,2)]\n",
    "qdot = [zf.diff(t), zr.diff(t), zp.diff(t), theta.diff(t)]\n",
    "q = [zf, zr, zp, theta]\n",
    "w = [ur, uf]\n",
    "wdot = [ur.diff(t), uf.diff(t)]\n",
    "\n",
    "eq1 = mf*zf.diff(t,2) - kf2*(zp-zf+lf*theta) - cf2*(zp.diff(t)- zf.diff(t)+lf*theta.diff(t)) - kf1*(uf-zf)-cf1*(uf.diff(t)-zf.diff(t))\n",
    "eq2 = mr*zr.diff(t,2) - kr2*(zp-zr-lr*theta) - cr2*(zp.diff(t)- zr.diff(t)-lr*theta.diff(t)) - kr1*(ur-zr)-cr1*(ur.diff(t)-zr.diff(t))\n",
    "eq3 = mp*zp.diff(t,2) - kf2*(zf-zp-lf*theta) - cf2*(zf.diff(t)-zp.diff(t)-lf*theta.diff(t))- kr2 *(zr+lr*theta-zp) - cr2*(zr.diff(t)+lr*theta.diff(t)-zp.diff(t))\n",
    "eq4 =  Iy*theta.diff(t,2) + lf* (kf2*(zf-zp-lf*theta) - cf2*(zf.diff(t)-zp.diff(t)-lf*theta.diff(t))) - lr* (kr2 *(zr+lr*theta-zp) - cr2*(zr.diff(t)+lr*theta.diff(t)-zp.diff(t)))\n",
    "\n",
    "equations = [eq1,eq2, eq3,eq4]\n",
    "equations = [e.simplify() for e in equations]\n",
    "\n",
    "print('Equations of Motion:')\n",
    "for e in equations:\n",
    "    display(e)\n",
    "\n",
    "Matrix = sp.linear_eq_to_matrix(equations, states)[0]\n",
    "M = Matrix[0:4,0:4]\n",
    "C = Matrix[0:4,4:8]\n",
    "K = Matrix[0:4,8:12]\n",
    "KU = Matrix[0:4,12:14]\n",
    "CU = Matrix[0:4,14:16]\n",
    "\n",
    "print('System in matrix form:')\n",
    "print('M')\n",
    "display(M)\n",
    "print('K')\n",
    "display(K)\n",
    "print('C')\n",
    "display(C)\n",
    "print('Ku')\n",
    "display(KU)\n",
    "print('CU')\n",
    "display(CU)"
   ]
  },
  {
   "cell_type": "code",
   "execution_count": null,
   "metadata": {},
   "outputs": [],
   "source": []
  }
 ],
 "metadata": {
  "kernelspec": {
   "display_name": "Python 3",
   "language": "python",
   "name": "python3"
  },
  "language_info": {
   "codemirror_mode": {
    "name": "ipython",
    "version": 3
   },
   "file_extension": ".py",
   "mimetype": "text/x-python",
   "name": "python",
   "nbconvert_exporter": "python",
   "pygments_lexer": "ipython3",
   "version": "3.10.12"
  }
 },
 "nbformat": 4,
 "nbformat_minor": 2
}
