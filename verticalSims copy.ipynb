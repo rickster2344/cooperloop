{
 "cells": [
  {
   "cell_type": "code",
   "execution_count": 6,
   "metadata": {},
   "outputs": [],
   "source": [
    "import sympy as sp"
   ]
  },
  {
   "cell_type": "code",
   "execution_count": 18,
   "metadata": {},
   "outputs": [
    {
     "name": "stdout",
     "output_type": "stream",
     "text": [
      "Equations of Motion:\n"
     ]
    },
    {
     "data": {
      "text/latex": [
       "$\\displaystyle 2 a k_{f} + 2 a k_{r} + 2 c_{f} l_{f} \\frac{d}{d t} \\psi{\\left(t \\right)} - c_{f} \\frac{d}{d t} u_{f1}{\\left(t \\right)} - c_{f} \\frac{d}{d t} u_{f2}{\\left(t \\right)} + 2 c_{f} \\frac{d}{d t} y{\\left(t \\right)} - 2 c_{r} l_{r} \\frac{d}{d t} \\psi{\\left(t \\right)} - c_{r} \\frac{d}{d t} u_{r1}{\\left(t \\right)} - c_{r} \\frac{d}{d t} u_{r2}{\\left(t \\right)} + 2 c_{r} \\frac{d}{d t} y{\\left(t \\right)} + 2 k_{f} l_{f} \\psi{\\left(t \\right)} - k_{f} u_{f1}{\\left(t \\right)} - k_{f} u_{f2}{\\left(t \\right)} + 2 k_{f} y{\\left(t \\right)} - 2 k_{r} l_{r} \\psi{\\left(t \\right)} - k_{r} u_{r1}{\\left(t \\right)} - k_{r} u_{r2}{\\left(t \\right)} + 2 k_{r} y{\\left(t \\right)} + m_{p} \\frac{d^{2}}{d t^{2}} y{\\left(t \\right)}$"
      ],
      "text/plain": [
       "2*a*k_f + 2*a*k_r + 2*c_f*l_f*Derivative(psi(t), t) - c_f*Derivative(u_f1(t), t) - c_f*Derivative(u_f2(t), t) + 2*c_f*Derivative(y(t), t) - 2*c_r*l_r*Derivative(psi(t), t) - c_r*Derivative(u_r1(t), t) - c_r*Derivative(u_r2(t), t) + 2*c_r*Derivative(y(t), t) + 2*k_f*l_f*psi(t) - k_f*u_f1(t) - k_f*u_f2(t) + 2*k_f*y(t) - 2*k_r*l_r*psi(t) - k_r*u_r1(t) - k_r*u_r2(t) + 2*k_r*y(t) + m_p*Derivative(y(t), (t, 2))"
      ]
     },
     "metadata": {},
     "output_type": "display_data"
    },
    {
     "data": {
      "text/latex": [
       "$\\displaystyle l_{f} \\left(c_{f} \\left(l_{f} \\frac{d}{d t} \\psi{\\left(t \\right)} - \\frac{d}{d t} u_{f1}{\\left(t \\right)} + \\frac{d}{d t} y{\\left(t \\right)}\\right) + c_{f} \\left(l_{f} \\frac{d}{d t} \\psi{\\left(t \\right)} - \\frac{d}{d t} u_{f2}{\\left(t \\right)} + \\frac{d}{d t} y{\\left(t \\right)}\\right) + k_{f} \\left(a + l_{f} \\psi{\\left(t \\right)} - u_{f1}{\\left(t \\right)} + y{\\left(t \\right)}\\right) + k_{f} \\left(a + l_{f} \\psi{\\left(t \\right)} - u_{f2}{\\left(t \\right)} + y{\\left(t \\right)}\\right)\\right) + \\frac{l_{p}^{2} m_{p} \\frac{d^{2}}{d t^{2}} \\psi{\\left(t \\right)}}{12} + l_{r} \\left(c_{r} \\left(l_{r} \\frac{d}{d t} \\psi{\\left(t \\right)} + \\frac{d}{d t} u_{r1}{\\left(t \\right)} - \\frac{d}{d t} y{\\left(t \\right)}\\right) + c_{r} \\left(l_{r} \\frac{d}{d t} \\psi{\\left(t \\right)} + \\frac{d}{d t} u_{r2}{\\left(t \\right)} - \\frac{d}{d t} y{\\left(t \\right)}\\right) - k_{r} \\left(a - l_{r} \\psi{\\left(t \\right)} - u_{r1}{\\left(t \\right)} + y{\\left(t \\right)}\\right) - k_{r} \\left(a - l_{r} \\psi{\\left(t \\right)} - u_{r2}{\\left(t \\right)} + y{\\left(t \\right)}\\right)\\right)$"
      ],
      "text/plain": [
       "l_f*(c_f*(l_f*Derivative(psi(t), t) - Derivative(u_f1(t), t) + Derivative(y(t), t)) + c_f*(l_f*Derivative(psi(t), t) - Derivative(u_f2(t), t) + Derivative(y(t), t)) + k_f*(a + l_f*psi(t) - u_f1(t) + y(t)) + k_f*(a + l_f*psi(t) - u_f2(t) + y(t))) + l_p**2*m_p*Derivative(psi(t), (t, 2))/12 + l_r*(c_r*(l_r*Derivative(psi(t), t) + Derivative(u_r1(t), t) - Derivative(y(t), t)) + c_r*(l_r*Derivative(psi(t), t) + Derivative(u_r2(t), t) - Derivative(y(t), t)) - k_r*(a - l_r*psi(t) - u_r1(t) + y(t)) - k_r*(a - l_r*psi(t) - u_r2(t) + y(t)))"
      ]
     },
     "metadata": {},
     "output_type": "display_data"
    },
    {
     "name": "stdout",
     "output_type": "stream",
     "text": [
      "System in matrix form:\n",
      "M\n"
     ]
    },
    {
     "data": {
      "text/latex": [
       "$\\displaystyle \\left[\\begin{matrix}m_{p} & 0\\\\0 & \\frac{l_{p}^{2} m_{p}}{12}\\end{matrix}\\right]$"
      ],
      "text/plain": [
       "Matrix([\n",
       "[m_p,             0],\n",
       "[  0, l_p**2*m_p/12]])"
      ]
     },
     "metadata": {},
     "output_type": "display_data"
    },
    {
     "name": "stdout",
     "output_type": "stream",
     "text": [
      "C\n"
     ]
    },
    {
     "data": {
      "text/latex": [
       "$\\displaystyle \\left[\\begin{matrix}2 c_{f} + 2 c_{r} & 2 c_{f} l_{f} - 2 c_{r} l_{r}\\\\2 c_{f} l_{f} - 2 c_{r} l_{r} & 2 c_{f} l_{f}^{2} + 2 c_{r} l_{r}^{2}\\end{matrix}\\right]$"
      ],
      "text/plain": [
       "Matrix([\n",
       "[        2*c_f + 2*c_r,       2*c_f*l_f - 2*c_r*l_r],\n",
       "[2*c_f*l_f - 2*c_r*l_r, 2*c_f*l_f**2 + 2*c_r*l_r**2]])"
      ]
     },
     "metadata": {},
     "output_type": "display_data"
    },
    {
     "name": "stdout",
     "output_type": "stream",
     "text": [
      "K\n"
     ]
    },
    {
     "data": {
      "text/latex": [
       "$\\displaystyle \\left[\\begin{matrix}2 k_{f} + 2 k_{r} & 2 k_{f} l_{f} - 2 k_{r} l_{r}\\\\2 k_{f} l_{f} - 2 k_{r} l_{r} & 2 k_{f} l_{f}^{2} + 2 k_{r} l_{r}^{2}\\end{matrix}\\right]$"
      ],
      "text/plain": [
       "Matrix([\n",
       "[        2*k_f + 2*k_r,       2*k_f*l_f - 2*k_r*l_r],\n",
       "[2*k_f*l_f - 2*k_r*l_r, 2*k_f*l_f**2 + 2*k_r*l_r**2]])"
      ]
     },
     "metadata": {},
     "output_type": "display_data"
    },
    {
     "name": "stdout",
     "output_type": "stream",
     "text": [
      "Ku\n"
     ]
    },
    {
     "data": {
      "text/latex": [
       "$\\displaystyle \\left[\\begin{matrix}- k_{f} & - k_{f} & - k_{r} & - k_{r}\\\\- k_{f} l_{f} & - k_{f} l_{f} & k_{r} l_{r} & k_{r} l_{r}\\end{matrix}\\right]$"
      ],
      "text/plain": [
       "Matrix([\n",
       "[    -k_f,     -k_f,    -k_r,    -k_r],\n",
       "[-k_f*l_f, -k_f*l_f, k_r*l_r, k_r*l_r]])"
      ]
     },
     "metadata": {},
     "output_type": "display_data"
    },
    {
     "name": "stdout",
     "output_type": "stream",
     "text": [
      "CU\n"
     ]
    },
    {
     "data": {
      "text/latex": [
       "$\\displaystyle \\left[\\begin{matrix}- c_{f} & - c_{f} & - c_{r} & - c_{r}\\\\- c_{f} l_{f} & - c_{f} l_{f} & c_{r} l_{r} & c_{r} l_{r}\\end{matrix}\\right]$"
      ],
      "text/plain": [
       "Matrix([\n",
       "[    -c_f,     -c_f,    -c_r,    -c_r],\n",
       "[-c_f*l_f, -c_f*l_f, c_r*l_r, c_r*l_r]])"
      ]
     },
     "metadata": {},
     "output_type": "display_data"
    },
    {
     "name": "stdout",
     "output_type": "stream",
     "text": [
      "A\n"
     ]
    },
    {
     "data": {
      "text/latex": [
       "$\\displaystyle \\left[\\begin{matrix}2 k_{f} + 2 k_{r}\\\\2 k_{f} l_{f} - 2 k_{r} l_{r}\\end{matrix}\\right]$"
      ],
      "text/plain": [
       "Matrix([\n",
       "[        2*k_f + 2*k_r],\n",
       "[2*k_f*l_f - 2*k_r*l_r]])"
      ]
     },
     "metadata": {},
     "output_type": "display_data"
    }
   ],
   "source": [
    "#constants\n",
    "kf,cf,kr,cr,lf,lr = sp.symbols('k_f,c_f,k_r,c_r,l_f,l_r')\n",
    "mp, lp , a= sp.symbols('m_p, l_p,a')\n",
    "#states\n",
    "t = sp.symbols('t')\n",
    "\n",
    "y = sp.Function('y')(t)\n",
    "psi = sp.Function('psi')(t)\n",
    "ur1 = sp.Function('u_r1')(t)\n",
    "uf1 = sp.Function('u_f1')(t)\n",
    "ur2 = sp.Function('u_r2')(t)\n",
    "uf2 = sp.Function('u_f2')(t)\n",
    "Iy = sp.Rational(1,12)*mp*lp**2\n",
    "\n",
    "states = [y.diff(t,2), psi.diff(t,2), y.diff(t), psi.diff(t), y, psi, uf1, uf2, ur1,ur2, uf1.diff(t), uf2.diff(t), ur1.diff(t),ur2.diff(t),a]\n",
    "\n",
    "Ff1 = kf*(-y+uf1-lf*psi-a)+cf*(-y.diff(t)+uf1.diff(t)-lf*psi.diff(t))\n",
    "Ff2 = kf*(-y+uf2-lf*psi-a)+cf*(-y.diff(t)+uf2.diff(t)-lf*psi.diff(t))\n",
    "Fr1 = kr*(-y+ur1+lr*psi-a)+cr*(-y.diff(t)+ur1.diff(t)+lr*psi.diff(t))\n",
    "Fr2 = kr*(-y+ur2+lr*psi-a)+cr*(-y.diff(t)+ur2.diff(t)+lr*psi.diff(t))\n",
    "\n",
    "eq1 = mp*y.diff(t,2) - (Ff1+Ff2+Fr1+Fr2)\n",
    "\n",
    "Iz = sp.Rational(1,12)*mp*lp**2\n",
    "eq2 = Iz*psi.diff(t,2) - (Ff1+Ff2)*lf + (Fr1+Fr2)*lr\n",
    "\n",
    "\n",
    "equations = [eq1,eq2]\n",
    "equations = [e.simplify() for e in equations]\n",
    "\n",
    "print('Equations of Motion:')\n",
    "for e in equations:\n",
    "    display(e)\n",
    "\n",
    "Matrix = sp.linear_eq_to_matrix(equations, states)[0]\n",
    "M = Matrix[0:2,0:2]\n",
    "C = Matrix[0:2,2:4]\n",
    "K = Matrix[0:2,4:6]\n",
    "KU = Matrix[0:2,6:10]\n",
    "CU = Matrix[0:2,10:14]\n",
    "A = Matrix[0:2,14]\n",
    "\n",
    "\n",
    "print('System in matrix form:')\n",
    "print('M')\n",
    "display(M)\n",
    "print('C')\n",
    "display(C)\n",
    "print('K')\n",
    "display(K)\n",
    "print('Ku')\n",
    "display(KU)\n",
    "print('CU')\n",
    "display(CU)\n",
    "print('A')\n",
    "display(A)"
   ]
  },
  {
   "cell_type": "code",
   "execution_count": null,
   "metadata": {},
   "outputs": [],
   "source": []
  }
 ],
 "metadata": {
  "kernelspec": {
   "display_name": "Python 3",
   "language": "python",
   "name": "python3"
  },
  "language_info": {
   "codemirror_mode": {
    "name": "ipython",
    "version": 3
   },
   "file_extension": ".py",
   "mimetype": "text/x-python",
   "name": "python",
   "nbconvert_exporter": "python",
   "pygments_lexer": "ipython3",
   "version": "3.10.12"
  }
 },
 "nbformat": 4,
 "nbformat_minor": 2
}
